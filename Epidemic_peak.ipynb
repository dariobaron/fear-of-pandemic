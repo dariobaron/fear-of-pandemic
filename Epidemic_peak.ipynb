{
 "cells": [
  {
   "cell_type": "code",
   "execution_count": null,
   "id": "865285eb-9d86-483b-9d0f-daacdb8dd8bf",
   "metadata": {},
   "outputs": [],
   "source": [
    "import pandas as pd\n",
    "import numpy as np\n",
    "from matplotlib import pyplot as plt\n",
    "from load_data import load_data"
   ]
  },
  {
   "cell_type": "code",
   "execution_count": 2,
   "id": "90e9f3e9-c5b2-4797-b4ad-030e9226fb12",
   "metadata": {},
   "outputs": [
    {
     "name": "stdout",
     "output_type": "stream",
     "text": [
      "Loading dataset: Completed!\n"
     ]
    }
   ],
   "source": [
    "data = load_data(\"bianconi-barabasi_10000_5\")"
   ]
  },
  {
   "cell_type": "code",
   "execution_count": 34,
   "id": "60dcee39-4b07-47eb-965e-f9bf3d2a44f0",
   "metadata": {},
   "outputs": [
    {
     "name": "stderr",
     "output_type": "stream",
     "text": [
      "/tmp/ipykernel_5519/510412306.py:3: PerformanceWarning: indexing past lexsort depth may impact performance.\n",
      "  tmaxs = [col.idxmax() for run,col in data.xs(simulation_type, axis=0).xs(\"I\", axis=1, level=1).items()]\n"
     ]
    },
    {
     "data": {
      "image/png": "[encoded data removed]",
      "text/plain": [
       "<Figure size 432x288 with 1 Axes>"
      ]
     },
     "metadata": {
      "needs_background": "light"
     },
     "output_type": "display_data"
    }
   ],
   "source": [
    "simulation_type = (\"none\",\"none\",\"none\")\n",
    "\n",
    "tmaxs = [col.idxmax() for run,col in data.xs(simulation_type, axis=0).xs(\"I\", axis=1, level=1).items()]\n",
    "\n",
    "fig, ax = plt.subplots(1,1)\n",
    "ax.hist(tmaxs, alpha=0.5)\n",
    "ax.set_title(f\"Reaction: {simulation_type[0]}, Fear Distribution: {simulation_type[1]}, Feedback: {simulation_type[2]}\")\n",
    "ax.grid()\n",
    "fig.tight_layout()"
   ]
  },
  {
   "cell_type": "code",
   "execution_count": null,
   "id": "1042e84f-f5c2-4ca2-8f55-364067114134",
   "metadata": {},
   "outputs": [],
   "source": []
  },
  {
   "cell_type": "code",
   "execution_count": 22,
   "id": "75a1cdec-dac8-4d86-872e-83333177c45e",
   "metadata": {},
   "outputs": [
    {
     "name": "stdout",
     "output_type": "stream",
     "text": [
      "(0, t\n",
      "0.000         1\n",
      "0.125         1\n",
      "0.250         1\n",
      "0.375         1\n",
      "0.500         1\n",
      "           ... \n",
      "101.375    <NA>\n",
      "101.500    <NA>\n",
      "101.625    <NA>\n",
      "101.750    <NA>\n",
      "101.875    <NA>\n",
      "Name: 0, Length: 816, dtype: Int32)\n"
     ]
    },
    {
     "name": "stderr",
     "output_type": "stream",
     "text": [
      "/tmp/ipykernel_5519/2815301585.py:1: FutureWarning: Passing lists as key for xs is deprecated and will be removed in a future version. Pass key as a tuple instead.\n",
      "  for col in data.xs([\"none\",\"none\",\"none\"]).xs(\"I\", axis=1, level=1).items():\n",
      "/tmp/ipykernel_5519/2815301585.py:1: PerformanceWarning: indexing past lexsort depth may impact performance.\n",
      "  for col in data.xs([\"none\",\"none\",\"none\"]).xs(\"I\", axis=1, level=1).items():\n"
     ]
    }
   ],
   "source": [
    "for col in data.xs([\"none\",\"none\",\"none\"]).xs(\"I\", axis=1, level=1).items():\n",
    "    print(col)\n",
    "    break"
   ]
  },
  {
   "cell_type": "code",
   "execution_count": 26,
   "id": "bba95159-35e9-4add-a3fc-3d5df9f955b0",
   "metadata": {},
   "outputs": [
    {
     "data": {
      "text/plain": [
       "t\n",
       "0.000         1\n",
       "0.125         1\n",
       "0.250         1\n",
       "0.375         1\n",
       "0.500         1\n",
       "           ... \n",
       "101.375    <NA>\n",
       "101.500    <NA>\n",
       "101.625    <NA>\n",
       "101.750    <NA>\n",
       "101.875    <NA>\n",
       "Name: 0, Length: 816, dtype: Int32"
      ]
     },
     "execution_count": 26,
     "metadata": {},
     "output_type": "execute_result"
    }
   ],
   "source": [
    "col[1]"
   ]
  },
  {
   "cell_type": "code",
   "execution_count": null,
   "id": "5e811346-153c-416e-ac0a-7cadfcf4f803",
   "metadata": {},
   "outputs": [],
   "source": []
  }
 ],
 "metadata": {
  "kernelspec": {
   "display_name": "Python 3 (ipykernel)",
   "language": "python",
   "name": "python3"
  },
  "language_info": {
   "codemirror_mode": {
    "name": "ipython",
    "version": 3
   },
   "file_extension": ".py",
   "mimetype": "text/x-python",
   "name": "python",
   "nbconvert_exporter": "python",
   "pygments_lexer": "ipython3",
   "version": "3.8.10"
  }
 },
 "nbformat": 4,
 "nbformat_minor": 5
}
