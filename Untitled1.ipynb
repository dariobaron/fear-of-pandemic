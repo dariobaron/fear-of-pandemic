{
 "cells": [
  {
   "cell_type": "code",
   "execution_count": 7,
   "id": "28e07a7f-3fc7-47b6-a22d-866b7dbb0248",
   "metadata": {},
   "outputs": [],
   "source": [
    "import numpy as np\n",
    "import pandas as pd\n",
    "import os\n",
    "import h5py\n",
    "\n",
    "def load_data(network_name):\n",
    "\thyper_parameters = [\"REACTION\",\"FEAR\",\"FEEDBACK\"]\n",
    "\thyper_par_values = [[\"soften\",\"cut\"],\n",
    "\t\t\t\t\t\t[\"fixed\",\"uni\",\"asyLow\",\"asyHigh\",\"bi\",\"corr\",\"anticorr\"],\n",
    "\t\t\t\t\t\t[\"short\",\"long\",\"shortlong\",\"neighbours\",\"all\"]]\n",
    "\n",
    "\tdata_list = []\n",
    "\tfor i,rea in enumerate(hyper_par_values[0]):\n",
    "\t\tdata_fear = []\n",
    "\t\tfor j,fea in enumerate(hyper_par_values[1]):\n",
    "\t\t\tdata_feedback = []\n",
    "\t\t\tfor k,fee in enumerate(hyper_par_values[2]):\n",
    "\t\t\t\thpv = [rea,fea,fee]\n",
    "\t\t\t\tsimulation_name = \"_\".join([hyper_parameters[i]+hpv[i] for i in range(len(hyper_parameters))])\n",
    "\t\t\t\tfilepath = os.path.join(\"output\", network_name, simulation_name, \".h5\")\n",
    "\t\t\t\th5file = h5py.File(filepath, 'r')\n",
    "\t\t\t\tdf_run = {i : pd.DataFrame.from_records(np.array(h5file.get(str(i))), index=\"t\") for i in range(100)}\n",
    "\t\t\t\th5file.close()\n",
    "\t\t\t\tdata_feedback.append(pd.concat(df_run, axis=1, join=\"outer\"))\n",
    "\t\t\t\tprint(f\"Loading dataset: {(i*7*5+j*5+k)*100//(2*7*5)}%\", flush=True, end=\"\\r\")\n",
    "\t\t\tdata_feedback = pd.concat(data_feedback, keys=hyper_par_values[2], copy=False)\n",
    "\t\t\tdata_fear.append(data_feedback)\n",
    "\t\tdata_fear = pd.concat(data_fear, keys=hyper_par_values[1], copy=False)\n",
    "\t\tdata_list.append(data_fear)\n",
    "\tdata = pd.concat(data_list, keys=hyper_par_values[0], copy=False)\n",
    "\tdata.rename_axis(index=[\"reaction\",\"fear\",\"feedback\",\"t\"], inplace=True)\n",
    "\n",
    "\tsimulation_name_noFeedback = \"_\".join([hyper_parameters[i]+\"none\" for i in range(len(hyper_parameters))])\n",
    "\tfilepath = os.path.join(\"output\", network_name, simulation_name_noFeedback, \".h5\")\n",
    "\th5file = h5py.File(filepath, 'r')\n",
    "\tdata_none = pd.concat({i : pd.DataFrame.from_records(np.array(h5file.get(str(i))), index=\"t\") for i in range(100)}, axis=1, join=\"outer\")\n",
    "\th5file.close()\n",
    "\tdata_none.index = pd.MultiIndex.from_product([[\"none\"],[\"none\"],[\"none\"],data_none.index], names=[\"reaction\",\"fear\",\"feedback\",\"t\"])\n",
    "\n",
    "\tdata = pd.concat([data_none,data])\n",
    "\tdata.rename_axis(columns=[\"run\",\"compartment\"], inplace=True)\n",
    "\n",
    "\tprint(\"Loading dataset: Completed!\")\n",
    "\n",
    "\treturn data\n"
   ]
  },
  {
   "cell_type": "code",
   "execution_count": null,
   "id": "ec3ac1f0-d1d3-4304-a016-d9190a491e92",
   "metadata": {},
   "outputs": [],
   "source": []
  }
 ],
 "metadata": {
  "kernelspec": {
   "display_name": "Python 3 (ipykernel)",
   "language": "python",
   "name": "python3"
  },
  "language_info": {
   "codemirror_mode": {
    "name": "ipython",
    "version": 3
   },
   "file_extension": ".py",
   "mimetype": "text/x-python",
   "name": "python",
   "nbconvert_exporter": "python",
   "pygments_lexer": "ipython3",
   "version": "3.8.10"
  }
 },
 "nbformat": 4,
 "nbformat_minor": 5
}
