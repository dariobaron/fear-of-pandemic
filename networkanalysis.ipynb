{
 "cells": [
  {
   "cell_type": "code",
   "execution_count": 6,
   "id": "2f368a98",
   "metadata": {},
   "outputs": [],
   "source": [
    "import numpy as np\n",
    "import pandas as pd\n",
    "from matplotlib import pyplot as plt\n",
    "from scipy.stats import beta\n",
    "import networkx as nx"
   ]
  },
  {
   "cell_type": "code",
   "execution_count": 2,
   "id": "909e49fc",
   "metadata": {},
   "outputs": [],
   "source": [
    "G = [nx.read_adjlist(f\"input/bianconi-barabasi_10000_5/{i}.adjlist\", nodetype=int) for i in range(100)]"
   ]
  },
  {
   "cell_type": "code",
   "execution_count": 3,
   "id": "9d0796b5",
   "metadata": {},
   "outputs": [],
   "source": [
    "values = [n for _,n in G[0].degree]"
   ]
  },
  {
   "cell_type": "code",
   "execution_count": 4,
   "id": "dd462715",
   "metadata": {},
   "outputs": [
    {
     "data": {
      "text/plain": [
       "array([   5,    6,    7,    8,    9,   10,   11,   12,   13,   14,   15,\n",
       "         16,   17,   18,   19,   20,   21,   22,   23,   24,   25,   26,\n",
       "         27,   28,   29,   30,   31,   32,   33,   34,   35,   36,   37,\n",
       "         38,   39,   40,   41,   42,   43,   44,   45,   46,   47,   48,\n",
       "         49,   50,   51,   52,   53,   54,   55,   56,   57,   58,   59,\n",
       "         60,   61,   62,   63,   64,   65,   66,   67,   68,   69,   71,\n",
       "         72,   74,   75,   76,   78,   79,   80,   81,   82,   83,   85,\n",
       "         86,   87,   88,   90,   92,   95,   96,   97,   98,  100,  101,\n",
       "        102,  104,  105,  106,  108,  110,  115,  116,  122,  123,  126,\n",
       "        128,  130,  136,  138,  140,  143,  148,  150,  151,  153,  154,\n",
       "        160,  163,  181,  185,  187,  190,  192,  207,  210,  224,  241,\n",
       "        244,  267,  282,  289,  290,  390,  418,  426,  452,  735,  778,\n",
       "       1056, 1497])"
      ]
     },
     "execution_count": 4,
     "metadata": {},
     "output_type": "execute_result"
    }
   ],
   "source": [
    "np.unique(sorted(values))"
   ]
  },
  {
   "cell_type": "code",
   "execution_count": 12,
   "id": "c6788214-345f-46da-9137-ba2d98007346",
   "metadata": {},
   "outputs": [
    {
     "data": {
      "image/png": "[encoded data removed]",
      "text/plain": [
       "<Figure size 504x180 with 2 Axes>"
      ]
     },
     "metadata": {
      "needs_background": "light"
     },
     "output_type": "display_data"
    }
   ],
   "source": [
    "fig, axs = plt.subplots(1, 2, figsize=(7,2.5))\n",
    "\n",
    "bins = np.logspace(np.log10(min(values)), np.log10(max(values)), 20)\n",
    "axs[0].hist(values, bins=bins)\n",
    "axs[0].set_xscale(\"log\")\n",
    "axs[0].set_yscale(\"log\")\n",
    "axs[0].set_title(\"Degree distribution\")\n",
    "\n",
    "xs = np.linspace(0,1,1001)\n",
    "axs[1].plot(xs, beta.pdf(xs,1,2,loc=1/4,scale=3/4), color=\"blue\", label=\"Correlated\")\n",
    "axs[1].plot(xs, beta.pdf(xs,2,1,scale=3/4), color=\"red\", label=\"Anticorrelated\")\n",
    "axs[1].set_title(\"Fear distribution\")\n",
    "axs[1].set_xticks(np.linspace(0,1,3))\n",
    "axs[1].set_yticks(np.linspace(0,4,3))\n",
    "axs[1].legend()\n",
    "\n",
    "for ax in axs:\n",
    "    ax.spines[[\"top\",\"right\"]].set_visible(False)\n",
    "fig.tight_layout()\n",
    "fig.savefig(\"plots/fear-distribution-correlation.png\")"
   ]
  },
  {
   "cell_type": "code",
   "execution_count": null,
   "id": "530a0323-e131-43d3-9fd3-d85b23bdf891",
   "metadata": {},
   "outputs": [],
   "source": []
  }
 ],
 "metadata": {
  "kernelspec": {
   "display_name": "Python 3 (ipykernel)",
   "language": "python",
   "name": "python3"
  },
  "language_info": {
   "codemirror_mode": {
    "name": "ipython",
    "version": 3
   },
   "file_extension": ".py",
   "mimetype": "text/x-python",
   "name": "python",
   "nbconvert_exporter": "python",
   "pygments_lexer": "ipython3",
   "version": "3.8.10"
  }
 },
 "nbformat": 4,
 "nbformat_minor": 5
}
